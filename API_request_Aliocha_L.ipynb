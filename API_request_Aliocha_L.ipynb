// API sélectionnée : entity-extractor API Documentation
// URL : https://rapidapi.com/sany2k8/api/entity-extractor/
// Utilité : permet de créer des entités à partir de fichier .txt en utilisant python.
// Cela permettrait de se faire une idée des sujets/topics abordé dans un texte.

//La requête suivante est basée sur la documentation fournie avec l'API via rapidapi.com 

import requests

url = "https://entity-extractor.p.rapidapi.com/ner"

payload = "{\r\n    \"content\": \"Idem relative à diverses manœuvres ayant pour but de faire
payer à la ville, à des prix exagérés, les pavés nécessaires
au pavage de la ville et les pierres à employer pour la construction de la caserne du Petit-Chatcau et pour les constructions à faire dans les bas-fonds de la rue Royale ^ . ^211
Rapport fait par la section des travaux publics, concluant au
refus d'autoriser la construction de deux galeries dans le
prolongement des galeries St.-Hubert .\"\r\n}"
headers = {
    'content-type': "application/json",
    'x-rapidapi-host': "entity-extractor.p.rapidapi.com",
    'x-rapidapi-key': "SIGN-UP-FOR-KEY"
    }

response = requests.request("POST", url, data=payload, headers=headers)

print(response.text)