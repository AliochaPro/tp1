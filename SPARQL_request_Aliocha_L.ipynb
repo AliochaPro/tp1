
//"Je veux le nom, le prénom et la date de naissance des juges belges, qui n'ont pas cumulé la fonction de politicien (car on a déjà cette information dans la requête précédente)."

SELECT DISTINCT ?person ?personLabel ?dateBirth ?dateDeath WHERE {
    ?person wdt:P27 wd:Q31 .
    ?person wdt:P106 wd:Q16533 .
    ?person wdt:P569 ?dateBirth .
   MINUS {
        ?item p:P106 ?statement2.
        ?statement2 (ps:P106/(wdt:P279*)) wd:Q82955.
      }
    OPTIONAL {?person wdt:P570 ?dateDeath .}
  
    SERVICE wikibase:label { bd:serviceParam wikibase:language "en" . }
}
ORDER BY ?personLabel